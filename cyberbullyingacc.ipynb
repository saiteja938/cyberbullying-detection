{
 "cells": [
  {
   "cell_type": "code",
   "execution_count": 5,
   "id": "186ace44-95d0-431f-9b81-a003584cbdfe",
   "metadata": {},
   "outputs": [],
   "source": [
    "import pandas as pd\n",
    "import numpy as np\n",
    "np.int=int\n",
    "np.bool=bool\n",
    "np.object=object\n",
    "from sklearn.model_selection import train_test_split\n",
    "from sklearn.preprocessing import LabelEncoder\n",
    "from tensorflow.keras.preprocessing.text import Tokenizer\n",
    "from tensorflow.keras.preprocessing.sequence import pad_sequences\n",
    "from tensorflow.keras.models import Sequential,load_model\n",
    "from tensorflow.keras.layers import Embedding, LSTM, Dense, Dropout, Bidirectional\n",
    "from tensorflow.keras.optimizers import Adam\n",
    "from sklearn.metrics import accuracy_score, confusion_matrix\n",
    "import matplotlib.pyplot as plt\n",
    "import seaborn as sns\n",
    "import tensorflow as tf\n",
    "from tensorflow.keras.layers import Embedding, LSTM, Dense, Dropout, Bidirectional, SpatialDropout1D\n",
    "from tensorflow.keras.callbacks import EarlyStopping\n",
    "import tensorflow as tf\n",
    "from tensorflow.keras.layers import Embedding, Conv1D, MaxPooling1D, LSTM, Dense, Dropout, Bidirectional, SpatialDropout1D\n",
    "from tensorflow.keras.callbacks import EarlyStopping"
   ]
  },
  {
   "cell_type": "code",
   "execution_count": 2,
   "id": "bde91ac2-bf88-46b4-b06f-da81f6102d75",
   "metadata": {},
   "outputs": [],
   "source": [
    "df = pd.read_csv(r\"C:\\Users\\smura\\Downloads\\cyberbullying_tweets.csv\")"
   ]
  },
  {
   "cell_type": "code",
   "execution_count": 3,
   "id": "a6f29460-f306-4856-bac2-9379eceb4aad",
   "metadata": {},
   "outputs": [],
   "source": [
    "texts = df['tweet_text'].values\n",
    "labels = df['cyberbullying_type'].values\n",
    "\n",
    "# Encode labels to numerical values\n",
    "label_encoder = LabelEncoder()\n",
    "encoded_labels = label_encoder.fit_transform(labels)\n",
    "\n",
    "# Tokenize and pad sequences\n",
    "vocab_size = 10000  # Limit vocabulary size\n",
    "max_length = 100  # Maximum length of sequences\n",
    "trunc_type = 'post'\n",
    "padding_type = 'post'\n",
    "oov_token = \"<OOV>\"\n",
    "\n",
    "tokenizer = Tokenizer(num_words=vocab_size, oov_token=oov_token)\n",
    "tokenizer.fit_on_texts(texts)\n",
    "sequences = tokenizer.texts_to_sequences(texts)\n",
    "padded_sequences = pad_sequences(sequences, maxlen=max_length, padding=padding_type, truncating=trunc_type)\n",
    "\n",
    "# Split the data into training and testing sets\n",
    "X_train, X_test, y_train, y_test = train_test_split(padded_sequences, encoded_labels, test_size=0.2, random_state=42)"
   ]
  },
  {
   "cell_type": "code",
   "execution_count": 27,
   "id": "6f054241-b619-494d-83b0-6f81fbb9a861",
   "metadata": {},
   "outputs": [],
   "source": [
    "model = tf.keras.Sequential([\n",
    "    Embedding(vocab_size, 128, input_length=max_length),\n",
    "    SpatialDropout1D(0.3),  # Regularization layer\n",
    "\n",
    "    # 1D Convolutional layer to extract n-gram features\n",
    "    Conv1D(filters=128, kernel_size=5, activation='relu'),\n",
    "    MaxPooling1D(pool_size=2),\n",
    "\n",
    "    # LSTM layers for sequence learning\n",
    "    Bidirectional(LSTM(64, return_sequences=True)),\n",
    "    LSTM(32),\n",
    "\n",
    "    # Dense layers for classification\n",
    "    Dropout(0.5),\n",
    "    Dense(64, activation='relu'),\n",
    "    Dropout(0.5),\n",
    "    Dense(len(label_encoder.classes_), activation='softmax')\n",
    "])"
   ]
  },
  {
   "cell_type": "code",
   "execution_count": 28,
   "id": "cefa0011-de7d-4fcf-84ab-165a5f185de6",
   "metadata": {},
   "outputs": [],
   "source": [
    "optimizer = tf.keras.optimizers.Adam(learning_rate=0.001)\n",
    "model.compile(loss='sparse_categorical_crossentropy', optimizer=optimizer, metrics=['accuracy'])"
   ]
  },
  {
   "cell_type": "code",
   "execution_count": 30,
   "id": "b1637765-0d9f-4d36-9950-d3081fc79c5f",
   "metadata": {},
   "outputs": [
    {
     "name": "stdout",
     "output_type": "stream",
     "text": [
      "Epoch 1/15\n",
      "1193/1193 [==============================] - 15s 12ms/step - loss: 0.4600 - accuracy: 0.7897 - val_loss: 0.4969 - val_accuracy: 0.7776\n",
      "Epoch 2/15\n",
      "1193/1193 [==============================] - 14s 12ms/step - loss: 0.4239 - accuracy: 0.8005 - val_loss: 0.5235 - val_accuracy: 0.7768\n",
      "Epoch 3/15\n",
      "1193/1193 [==============================] - 14s 12ms/step - loss: 0.4004 - accuracy: 0.8044 - val_loss: 0.5246 - val_accuracy: 0.7814\n",
      "Epoch 4/15\n",
      "1193/1193 [==============================] - 15s 13ms/step - loss: 0.3783 - accuracy: 0.8103 - val_loss: 0.5233 - val_accuracy: 0.7801\n",
      "Epoch 5/15\n",
      "1193/1193 [==============================] - 15s 13ms/step - loss: 0.3635 - accuracy: 0.8177 - val_loss: 0.5221 - val_accuracy: 0.7836\n",
      "Epoch 6/15\n",
      "1193/1193 [==============================] - 15s 13ms/step - loss: 0.3402 - accuracy: 0.8364 - val_loss: 0.5497 - val_accuracy: 0.7970\n",
      "Epoch 7/15\n",
      "1193/1193 [==============================] - 15s 13ms/step - loss: 0.3170 - accuracy: 0.8611 - val_loss: 0.5523 - val_accuracy: 0.8002\n",
      "Epoch 8/15\n",
      "1193/1193 [==============================] - 16s 13ms/step - loss: 0.2900 - accuracy: 0.8827 - val_loss: 0.5410 - val_accuracy: 0.8163\n",
      "Epoch 9/15\n",
      "1193/1193 [==============================] - 16s 13ms/step - loss: 0.2694 - accuracy: 0.8989 - val_loss: 0.6520 - val_accuracy: 0.8155\n",
      "Epoch 10/15\n",
      "1193/1193 [==============================] - 16s 13ms/step - loss: 0.2515 - accuracy: 0.9090 - val_loss: 0.6250 - val_accuracy: 0.8195\n",
      "Epoch 11/15\n",
      "1193/1193 [==============================] - 15s 13ms/step - loss: 0.2305 - accuracy: 0.9173 - val_loss: 0.6843 - val_accuracy: 0.8106\n",
      "Epoch 12/15\n",
      "1193/1193 [==============================] - 16s 13ms/step - loss: 0.2202 - accuracy: 0.9219 - val_loss: 0.6339 - val_accuracy: 0.8192\n",
      "Epoch 13/15\n",
      "1193/1193 [==============================] - 16s 13ms/step - loss: 0.2124 - accuracy: 0.9271 - val_loss: 0.6865 - val_accuracy: 0.8159\n",
      "Epoch 14/15\n",
      "1193/1193 [==============================] - 16s 13ms/step - loss: 0.1962 - accuracy: 0.9310 - val_loss: 0.7043 - val_accuracy: 0.8148\n",
      "Epoch 15/15\n",
      "1193/1193 [==============================] - 16s 13ms/step - loss: 0.1866 - accuracy: 0.9342 - val_loss: 0.7127 - val_accuracy: 0.8233\n"
     ]
    },
    {
     "data": {
      "text/plain": [
       "<keras.callbacks.History at 0x287c57d1df0>"
      ]
     },
     "execution_count": 30,
     "metadata": {},
     "output_type": "execute_result"
    }
   ],
   "source": [
    "#early_stopping = EarlyStopping(monitor='val_loss', patience=3, restore_best_weights=True)\n",
    "\n",
    "# Train the model\n",
    "model.fit(X_train, y_train, epochs=15, validation_data=(X_test, y_test), batch_size=32)"
   ]
  },
  {
   "cell_type": "code",
   "execution_count": 31,
   "id": "9ef4541a-1ecb-47f7-908f-942a3c695344",
   "metadata": {},
   "outputs": [],
   "source": [
    "model.save(\"cyber.h5\")"
   ]
  },
  {
   "cell_type": "code",
   "execution_count": 6,
   "id": "36b8c36b-b3ca-4d33-95a3-f70f649a10f7",
   "metadata": {},
   "outputs": [],
   "source": [
    "model=load_model(\"cyber.h5\")\n"
   ]
  },
  {
   "cell_type": "code",
   "execution_count": 9,
   "id": "521c5230-781f-4559-bb7d-7204ed125b63",
   "metadata": {},
   "outputs": [
    {
     "name": "stdout",
     "output_type": "stream",
     "text": [
      "Precision Score: 82.33%\n",
      "Recall Score: 82.33%\n",
      "F1 Score: 82.33%\n"
     ]
    }
   ],
   "source": [
    "from sklearn.metrics import precision_score, recall_score, f1_score\n",
    "precision = precision_score(y_test,  y_pred_classes, average='micro')\n",
    "recall = recall_score(y_test,  y_pred_classes, average='micro')\n",
    "f1 = f1_score(y_test,  y_pred_classes, average='micro')\n",
    "print(f\"Precision Score: {precision * 100:.2f}%\")\n",
    "print(f\"Recall Score: {recall * 100:.2f}%\")\n",
    "print(f\"F1 Score: {f1 * 100:.2f}%\")"
   ]
  },
  {
   "cell_type": "code",
   "execution_count": null,
   "id": "b66eedd7-6a29-4a08-9891-f928597122ad",
   "metadata": {},
   "outputs": [],
   "source": []
  }
 ],
 "metadata": {
  "kernelspec": {
   "display_name": "Python 3 (ipykernel)",
   "language": "python",
   "name": "python3"
  },
  "language_info": {
   "codemirror_mode": {
    "name": "ipython",
    "version": 3
   },
   "file_extension": ".py",
   "mimetype": "text/x-python",
   "name": "python",
   "nbconvert_exporter": "python",
   "pygments_lexer": "ipython3",
   "version": "3.9.18"
  }
 },
 "nbformat": 4,
 "nbformat_minor": 5
}
