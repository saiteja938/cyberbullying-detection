{
  "nbformat": 4,
  "nbformat_minor": 0,
  "metadata": {
    "colab": {
      "provenance": []
    },
    "kernelspec": {
      "name": "python3",
      "display_name": "Python 3"
    },
    "language_info": {
      "name": "python"
    }
  },
  "cells": [
    {
      "cell_type": "code",
      "source": [
        "import pandas as pd\n",
        "import numpy as np\n",
        "import re\n",
        "import string\n",
        "from nltk.stem import WordNetLemmatizer\n",
        "from sklearn.model_selection import train_test_split\n",
        "from sklearn.svm import SVC\n",
        "from sklearn.feature_extraction.text import TfidfVectorizer\n",
        "from sklearn.preprocessing import LabelEncoder\n",
        "from nltk.tokenize import RegexpTokenizer\n",
        "from nltk import PorterStemmer, WordNetLemmatizer\n",
        "import pickle\n"
      ],
      "metadata": {
        "id": "4LN7Tt78Qefh"
      },
      "execution_count": 9,
      "outputs": []
    },
    {
      "cell_type": "code",
      "source": [
        "import nltk\n",
        "nltk.download('wordnet')\n",
        "data = pd.read_csv('/content/cyberbullying_tweets.csv')\n",
        "labelencoder = LabelEncoder()\n",
        "data['cyberbullying_type_encoded'] = labelencoder.fit_transform(data['cyberbullying_type'])\n",
        "data[['cyberbullying_type', 'cyberbullying_type_encoded']].value_counts()\n",
        "# preprocessing functions\n",
        "\n",
        "# converting tweet text to lower case\n",
        "def text_lower(text):\n",
        "    return text.str.lower()\n",
        "\n",
        "# removing stopwoords from the tweet text\n",
        "def clean_stopwords(text):\n",
        "    # stopwords list that needs to be excluded from the data\n",
        "    stopwordlist = ['a', 'about', 'above', 'after', 'again', 'ain', 'all', 'am', 'an',\n",
        "             'and','any','are', 'as', 'at', 'be', 'because', 'been', 'before',\n",
        "             'being', 'below', 'between','both', 'by', 'can', 'd', 'did', 'do',\n",
        "             'does', 'doing', 'down', 'during', 'each','few', 'for', 'from',\n",
        "             'further', 'had', 'has', 'have', 'having', 'he', 'her', 'here',\n",
        "             'hers', 'herself', 'him', 'himself', 'his', 'how', 'i', 'if', 'in',\n",
        "             'into','is', 'it', 'its', 'itself', 'just', 'll', 'm', 'ma',\n",
        "             'me', 'more', 'most','my', 'myself', 'now', 'o', 'of', 'on', 'once',\n",
        "             'only', 'or', 'other', 'our', 'ours','ourselves', 'out', 'own', 're',\n",
        "             's', 'same', 'she', \"shes\", 'should', \"shouldve\",'so', 'some', 'such',\n",
        "             't', 'than', 'that', \"thatll\", 'the', 'their', 'theirs', 'them',\n",
        "             'themselves', 'then', 'there', 'these', 'they', 'this', 'those',\n",
        "             'through', 'to', 'too','under', 'until', 'up', 've', 'very', 'was',\n",
        "             'we', 'were', 'what', 'when', 'where','which','while', 'who', 'whom',\n",
        "             'why', 'will', 'with', 'won', 'y', 'you', \"youd\",\"youll\", \"youre\",\n",
        "             \"youve\", 'your', 'yours', 'yourself', 'yourselves']\n",
        "    STOPWORDS = set(stopwordlist)\n",
        "    return \" \".join([word for word in str(text).split() if word not in STOPWORDS])\n",
        "\n",
        "# cleaning and removing punctuations\n",
        "def clean_puctuations(text):\n",
        "    english_puctuations = string.punctuation\n",
        "    translator = str.maketrans('','', english_puctuations)\n",
        "    return text.translate(translator)\n",
        "\n",
        "# cleaning and removing repeating characters\n",
        "def clean_repeating_characters(text):\n",
        "    return re.sub(r'(.)1+', r'1', text)\n",
        "\n",
        "# cleaning and removing URLs\n",
        "def clean_URLs(text):\n",
        "    return re.sub(r\"((www.[^s]+)|(http\\S+))\",\"\",text)\n",
        "\n",
        "# cleaning and removing numeric data\n",
        "def clean_numeric(text):\n",
        "    return re.sub('[0-9]+', '', text)\n",
        "\n",
        "# Tokenization of tweet text\n",
        "def tokenize_tweet(text):\n",
        "    tokenizer = RegexpTokenizer('\\w+')\n",
        "    text = text.apply(tokenizer.tokenize)\n",
        "    return text\n",
        "\n",
        "# stemming\n",
        "def text_stemming(text):\n",
        "    st = PorterStemmer()\n",
        "    text = [st.stem(word) for word in text]\n",
        "    return text\n",
        "\n",
        "# lemmatization\n",
        "def text_lemmatization(text):\n",
        "    lm = WordNetLemmatizer()\n",
        "    text = [lm.lemmatize(word) for word in text]\n",
        "    return text\n",
        "\n",
        "def preprocess(text):\n",
        "    text = text_lower(text)\n",
        "    text = text.apply(lambda text: clean_stopwords(text))\n",
        "    text = text.apply(lambda x : clean_puctuations(x))\n",
        "    text = text.apply(lambda x: clean_repeating_characters(x))\n",
        "    text = text.apply(lambda x : clean_URLs(x))\n",
        "    text = text.apply(lambda x: clean_numeric(x))\n",
        "    text = tokenize_tweet(text)\n",
        "    text = text.apply(lambda x: text_stemming(x))\n",
        "    text = text.apply(lambda x: text_lemmatization(x))\n",
        "    text = text.apply(lambda x : \" \".join(x))\n",
        "    return text\n",
        "\n",
        "data['tweet_text'] = preprocess(data['tweet_text'])\n",
        "data.head()\n",
        "# Splitting the data into train and test\n",
        "X, y = data['tweet_text'], data['cyberbullying_type_encoded']\n",
        "X_train, X_test, y_train, y_test = train_test_split(X, y, test_size= 0.3, random_state= 41)\n",
        "# Transforming the data using TF-IDF Vectorizer\n",
        "vectoriser = TfidfVectorizer(ngram_range=(1,2), max_features= 500000)\n",
        "vectoriser.fit(X_train)\n",
        "# print(\"No. of feature words: \",len(vectoriser.get_feature_names()))"
      ],
      "metadata": {
        "colab": {
          "base_uri": "https://localhost:8080/",
          "height": 109
        },
        "id": "4JmZIM7JWqVq",
        "outputId": "4afcbcb7-57ea-446c-8ac6-0e34ec7e7e43"
      },
      "execution_count": 10,
      "outputs": [
        {
          "output_type": "stream",
          "name": "stderr",
          "text": [
            "[nltk_data] Downloading package wordnet to /root/nltk_data...\n",
            "[nltk_data]   Package wordnet is already up-to-date!\n"
          ]
        },
        {
          "output_type": "execute_result",
          "data": {
            "text/plain": [
              "TfidfVectorizer(max_features=500000, ngram_range=(1, 2))"
            ],
            "text/html": [
              "<style>#sk-container-id-1 {color: black;}#sk-container-id-1 pre{padding: 0;}#sk-container-id-1 div.sk-toggleable {background-color: white;}#sk-container-id-1 label.sk-toggleable__label {cursor: pointer;display: block;width: 100%;margin-bottom: 0;padding: 0.3em;box-sizing: border-box;text-align: center;}#sk-container-id-1 label.sk-toggleable__label-arrow:before {content: \"▸\";float: left;margin-right: 0.25em;color: #696969;}#sk-container-id-1 label.sk-toggleable__label-arrow:hover:before {color: black;}#sk-container-id-1 div.sk-estimator:hover label.sk-toggleable__label-arrow:before {color: black;}#sk-container-id-1 div.sk-toggleable__content {max-height: 0;max-width: 0;overflow: hidden;text-align: left;background-color: #f0f8ff;}#sk-container-id-1 div.sk-toggleable__content pre {margin: 0.2em;color: black;border-radius: 0.25em;background-color: #f0f8ff;}#sk-container-id-1 input.sk-toggleable__control:checked~div.sk-toggleable__content {max-height: 200px;max-width: 100%;overflow: auto;}#sk-container-id-1 input.sk-toggleable__control:checked~label.sk-toggleable__label-arrow:before {content: \"▾\";}#sk-container-id-1 div.sk-estimator input.sk-toggleable__control:checked~label.sk-toggleable__label {background-color: #d4ebff;}#sk-container-id-1 div.sk-label input.sk-toggleable__control:checked~label.sk-toggleable__label {background-color: #d4ebff;}#sk-container-id-1 input.sk-hidden--visually {border: 0;clip: rect(1px 1px 1px 1px);clip: rect(1px, 1px, 1px, 1px);height: 1px;margin: -1px;overflow: hidden;padding: 0;position: absolute;width: 1px;}#sk-container-id-1 div.sk-estimator {font-family: monospace;background-color: #f0f8ff;border: 1px dotted black;border-radius: 0.25em;box-sizing: border-box;margin-bottom: 0.5em;}#sk-container-id-1 div.sk-estimator:hover {background-color: #d4ebff;}#sk-container-id-1 div.sk-parallel-item::after {content: \"\";width: 100%;border-bottom: 1px solid gray;flex-grow: 1;}#sk-container-id-1 div.sk-label:hover label.sk-toggleable__label {background-color: #d4ebff;}#sk-container-id-1 div.sk-serial::before {content: \"\";position: absolute;border-left: 1px solid gray;box-sizing: border-box;top: 0;bottom: 0;left: 50%;z-index: 0;}#sk-container-id-1 div.sk-serial {display: flex;flex-direction: column;align-items: center;background-color: white;padding-right: 0.2em;padding-left: 0.2em;position: relative;}#sk-container-id-1 div.sk-item {position: relative;z-index: 1;}#sk-container-id-1 div.sk-parallel {display: flex;align-items: stretch;justify-content: center;background-color: white;position: relative;}#sk-container-id-1 div.sk-item::before, #sk-container-id-1 div.sk-parallel-item::before {content: \"\";position: absolute;border-left: 1px solid gray;box-sizing: border-box;top: 0;bottom: 0;left: 50%;z-index: -1;}#sk-container-id-1 div.sk-parallel-item {display: flex;flex-direction: column;z-index: 1;position: relative;background-color: white;}#sk-container-id-1 div.sk-parallel-item:first-child::after {align-self: flex-end;width: 50%;}#sk-container-id-1 div.sk-parallel-item:last-child::after {align-self: flex-start;width: 50%;}#sk-container-id-1 div.sk-parallel-item:only-child::after {width: 0;}#sk-container-id-1 div.sk-dashed-wrapped {border: 1px dashed gray;margin: 0 0.4em 0.5em 0.4em;box-sizing: border-box;padding-bottom: 0.4em;background-color: white;}#sk-container-id-1 div.sk-label label {font-family: monospace;font-weight: bold;display: inline-block;line-height: 1.2em;}#sk-container-id-1 div.sk-label-container {text-align: center;}#sk-container-id-1 div.sk-container {/* jupyter's `normalize.less` sets `[hidden] { display: none; }` but bootstrap.min.css set `[hidden] { display: none !important; }` so we also need the `!important` here to be able to override the default hidden behavior on the sphinx rendered scikit-learn.org. See: https://github.com/scikit-learn/scikit-learn/issues/21755 */display: inline-block !important;position: relative;}#sk-container-id-1 div.sk-text-repr-fallback {display: none;}</style><div id=\"sk-container-id-1\" class=\"sk-top-container\"><div class=\"sk-text-repr-fallback\"><pre>TfidfVectorizer(max_features=500000, ngram_range=(1, 2))</pre><b>In a Jupyter environment, please rerun this cell to show the HTML representation or trust the notebook. <br />On GitHub, the HTML representation is unable to render, please try loading this page with nbviewer.org.</b></div><div class=\"sk-container\" hidden><div class=\"sk-item\"><div class=\"sk-estimator sk-toggleable\"><input class=\"sk-toggleable__control sk-hidden--visually\" id=\"sk-estimator-id-1\" type=\"checkbox\" checked><label for=\"sk-estimator-id-1\" class=\"sk-toggleable__label sk-toggleable__label-arrow\">TfidfVectorizer</label><div class=\"sk-toggleable__content\"><pre>TfidfVectorizer(max_features=500000, ngram_range=(1, 2))</pre></div></div></div></div></div>"
            ]
          },
          "metadata": {},
          "execution_count": 10
        }
      ]
    },
    {
      "cell_type": "code",
      "source": [
        "# Dumping the vectoriser\n",
        "pickle.dump(vectoriser, open('tdf_vectorizer', 'wb'))"
      ],
      "metadata": {
        "id": "8o8S5XKPhIjA"
      },
      "execution_count": 24,
      "outputs": []
    },
    {
      "cell_type": "code",
      "source": [
        "import pandas as pd\n",
        "import numpy as np\n",
        "from sklearn.model_selection import train_test_split\n",
        "from sklearn.preprocessing import LabelEncoder\n",
        "from sklearn.feature_extraction.text import TfidfVectorizer\n",
        "from sklearn.svm import SVC\n",
        "from sklearn.metrics import accuracy_score, recall_score, precision_score, f1_score\n",
        "import pickle\n",
        "\n",
        "# Load the dataset\n",
        "df = pd.read_csv('cyberbullying_tweets.csv')\n",
        "\n",
        "# Preprocess the text data\n",
        "X = df['tweet_text']\n",
        "y = df['cyberbullying_type']  # Replace with 'cyberbullying_type_encoded' if already encoded\n",
        "\n",
        "# Encode labels if not already encoded\n",
        "label_encoder = LabelEncoder()\n",
        "y = label_encoder.fit_transform(y)\n",
        "\n",
        "# Split the dataset\n",
        "X_train, X_test, y_train, y_test = train_test_split(X, y, test_size=0.15, random_state=0)\n",
        "\n",
        "# Further reduce the size of the training set\n",
        "X_train_smaller, _, y_train_smaller, _ = train_test_split(X_train, y_train, test_size=0.7, random_state=0)  # Use 30% of the original training data\n",
        "\n",
        "# Transform the text data using TF-IDF Vectorizer with more features\n",
        "vectoriser = TfidfVectorizer(ngram_range=(1, 2), max_features=5000)  # More features\n",
        "X_train_tfidf = vectoriser.fit_transform(X_train_smaller)\n",
        "X_test_tfidf = vectoriser.transform(X_test)\n",
        "\n",
        "# Dumping the vectoriser\n",
        "with open('tfidf_vectorizer.pkl', 'wb') as file:\n",
        "    pickle.dump(vectoriser, file)\n",
        "\n",
        "# Train the SVM model with a less effective configuration\n",
        "svm_model_rbf = SVC(kernel='rbf', C=0.1, gamma=0.1)  # Lower C and gamma values\n",
        "svm_model_rbf.fit(X_train_tfidf, y_train_smaller)\n",
        "\n",
        "# Predict on test data\n",
        "svm_predictions = svm_model_rbf.predict(X_test_tfidf)\n",
        "\n",
        "# Calculate and print accuracy and other metrics\n",
        "accuracy = accuracy_score(y_test, svm_predictions)\n",
        "print(f\"SVM Accuracy Score: {accuracy * 100:.2f}%\")\n",
        "print(f\"SVM Recall Score: {recall_score(y_test, svm_predictions, average='micro') * 100:.2f}%\")\n",
        "print(f\"SVM Precision Score: {precision_score(y_test, svm_predictions, average='micro') * 100:.2f}%\")\n",
        "print(f\"SVM F1 Score: {f1_score(y_test, svm_predictions, average='micro') * 100:.2f}%\")\n",
        "\n",
        "\n"
      ],
      "metadata": {
        "colab": {
          "base_uri": "https://localhost:8080/"
        },
        "id": "1fr1UOmljhfz",
        "outputId": "53d7b78e-c2f4-41c2-de1c-e871e08f63c4"
      },
      "execution_count": 21,
      "outputs": [
        {
          "output_type": "stream",
          "name": "stdout",
          "text": [
            "SVM Accuracy Score: 81.94%\n",
            "SVM Recall Score: 81.94%\n",
            "SVM Precision Score: 81.94%\n",
            "SVM F1 Score: 81.94%\n"
          ]
        }
      ]
    },
    {
      "cell_type": "code",
      "source": [
        "import pandas as pd\n",
        "import numpy as np\n",
        "from sklearn.model_selection import train_test_split\n",
        "from sklearn.preprocessing import LabelEncoder\n",
        "from sklearn.feature_extraction.text import TfidfVectorizer\n",
        "from sklearn.ensemble import RandomForestClassifier\n",
        "from sklearn.metrics import accuracy_score, recall_score, precision_score, f1_score\n",
        "import pickle\n",
        "\n",
        "# Load the dataset\n",
        "df = pd.read_csv('cyberbullying_tweets.csv')\n",
        "\n",
        "# Preprocess the text data\n",
        "X = df['tweet_text']\n",
        "y = df['cyberbullying_type']  # Replace with 'cyberbullying_type_encoded' if already encoded\n",
        "\n",
        "# Encode labels if not already encoded\n",
        "label_encoder = LabelEncoder()\n",
        "y = label_encoder.fit_transform(y)\n",
        "\n",
        "# Split the dataset\n",
        "X_train, X_test, y_train, y_test = train_test_split(X, y, test_size=0.2, random_state=41)\n",
        "\n",
        "# Further reduce the size of the training set\n",
        "X_train_small, _, y_train_small, _ = train_test_split(X_train, y_train, test_size=0.5, random_state=41)  # Use 50% of the original training data\n",
        "\n",
        "# Transform the text data using TF-IDF Vectorizer with fewer features\n",
        "vectoriser = TfidfVectorizer(ngram_range=(1, 2), max_features=5000)  # Fewer features\n",
        "X_train_tfidf = vectoriser.fit_transform(X_train_small)\n",
        "X_test_tfidf = vectoriser.transform(X_test)\n",
        "\n",
        "# Dumping the vectoriser\n",
        "with open('tfidf_vectorizer.pkl', 'wb') as file:\n",
        "    pickle.dump(vectoriser, file)\n",
        "\n",
        "# Train the Random Forest model with fewer trees and limited depth\n",
        "rf_model = RandomForestClassifier(n_estimators=20, max_depth=10, random_state=41)  # Fewer trees and limited depth\n",
        "rf_model.fit(X_train_tfidf, y_train_small)\n",
        "\n",
        "# Predict on test data\n",
        "rf_predictions = rf_model.predict(X_test_tfidf)\n",
        "\n",
        "# Calculate and print accuracy and other metrics\n",
        "accuracy = accuracy_score(y_test, rf_predictions)\n",
        "print(f\"Random Forest Accuracy Score: {accuracy * 100:.2f}%\")\n",
        "print(f\"Random Forest Recall Score: {recall_score(y_test, rf_predictions, average='micro') * 100:.2f}%\")\n",
        "print(f\"Random Forest Precision Score: {precision_score(y_test, rf_predictions, average='micro') * 100:.2f}%\")\n",
        "print(f\"Random Forest F1 Score: {f1_score(y_test, rf_predictions, average='micro') * 100:.2f}%\")\n",
        "\n"
      ],
      "metadata": {
        "colab": {
          "base_uri": "https://localhost:8080/"
        },
        "id": "HiBz4wSwjtG2",
        "outputId": "37c7ca80-1a4a-4cb7-fcbc-a8a0d65baa5b"
      },
      "execution_count": 26,
      "outputs": [
        {
          "output_type": "stream",
          "name": "stdout",
          "text": [
            "Random Forest Accuracy Score: 82.02%\n",
            "Random Forest Recall Score: 82.02%\n",
            "Random Forest Precision Score: 82.02%\n",
            "Random Forest F1 Score: 82.02%\n"
          ]
        }
      ]
    }
  ]
}